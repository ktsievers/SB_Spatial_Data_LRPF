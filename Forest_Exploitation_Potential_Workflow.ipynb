{
 "cells": [
  {
   "cell_type": "markdown",
   "metadata": {},
   "source": [
    "Housekeeping:  \n",
    "This is code using python code for ArcGIS using the specific arcpy packages    \n",
    "  \n",
    "If running in the notebook function within the ArcGIS software, you dont need to do anything special.   \n",
    "  \n",
    "If you would like to run in Visual Studio Code:  \n",
    "Press Control + Shift + P and search for “>Python: Select Interpreter”.  \n",
    "The command palette will drop down, and you should see some options to seelct. Choose the first option when it says, “Enter interpreter path…”:  \n",
    "TO find your interpreter path in its default location go to the following path or select the following path in the dropdown menu:  \n",
    "    C:\\Program Files\\ArcGIS\\Pro\\bin\\Python\\envs\\arcgispro-py3\\  \n",
    "  \n",
    "further instructions here: https://resources.esri.ca/getting-technical/how-to-configure-visual-studio-code-with-arcgis-pro-s-python-environment  "
   ]
  },
  {
   "cell_type": "markdown",
   "metadata": {},
   "source": [
    "\n",
    "\n",
    "# Code Sections  \n",
    "*There are sections that you will need to go and edit or configure based on your computer and spatial requirements - see chunk below this*    \n",
    "[Set Workspaces](#workspaces)  \n",
    "[Layers Required](#layersrequired)  \n",
    "[Layers Created](#layerscreated)  \n",
    "  \n",
    "[1. Setting Up The Data](#editing)   \n",
    "   > [Setting File Names](#filenames)   \n",
    "   > [Setting Specific Paramters](#parameters)  \n",
    "     > Forest Cover  \n",
    "     > Road Buffer Distance  \n",
    "     > Elevation Cutoff values  \n",
    "     > [Projected Coordinate System](#coordinates)  \n",
    "     > Geographic Coordinate System  \n",
    "           \n",
    "[2. Manipulating Downloaded Data](#manipulations) \n",
    "   > [Moving data Layers to gdb](#movelayers)  \n",
    "   > [Compiling ESA land cover tiles](#esacompile)   \n",
    "  \n",
    "  \n",
    "[3. Generate Forest Cover from ESA WorldCover](#ForestCover)    \n",
    "  \n",
    "[4. Generate Access layer](#AccessLayer)    \n",
    "   > [4a. Distance from Coast](#distcoast)  \n",
    "   > [4b. Roads](#roads)  \n",
    "   > [4c. Slope](#slope)  \n",
    "   > [4d. Elevation](#elevation)  \n",
    "   > [4e. Adjacent to Modified Land](#modifiedland)  \n",
    "   > [4f. Combine Access Layers](#combineaccess)  \n",
    "   \n",
    "[5. Combing Forest Cover * Access](#CombineFC_Access)  \n",
    "\n",
    " \n",
    "\n"
   ]
  },
  {
   "cell_type": "markdown",
   "metadata": {},
   "source": [
    "# Code Sections you *MUST* EDIT   \n",
    "or at least check to make sure they are correct  \n",
    "[Set New Geodatabase Folder](#new_gdb)  (only do on the first time running this code)  \n",
    "[Set Folder Location for Raw Data](#raw_data)  \n",
    "[Set Workspaces](#workspaces)  \n",
    "[Setting Layer Names](#filenames)   \n",
    "[Setting Parameter Values](#parameters)  \n",
    "[Setting Coordinate Systems](#coordinates)  "
   ]
  },
  {
   "cell_type": "markdown",
   "metadata": {},
   "source": [
    "# Forest Exploitation Potential (ExPot) Workflow\n",
    "\n",
    "These layers measure the intensity that a resource (in this case, forest) is used or has the potential to be used, modified, or extracted.  \n",
    "high exploitation potential values = high intensity use or potential of use\n",
    "low exploitation potential values  = low intensity use (or low likelihood or resource use)  \n",
    "\n",
    "\n",
    "1. Generate Resource layer\n",
    "          > ESA Land Cover Layer - turn forest and mangrove into \"Forest\"\n",
    "2. Generate Access layer, which combines:  \n",
    "          > 2a. Distance from Coast  \n",
    "          > 2b. Roads  \n",
    "          > 2c. Slope  \n",
    "          > 2d. Elevation  \n",
    "          > 2e. Areas Adjacent to Modified Land    \n",
    "          > Combine Access Layers    \n",
    "3. Ensure 'Forest Area' and 'Access Layers' are scaled (0-100)  \n",
    "4. Combine 'Forest Area' x 'Access Layers' by multiplying   \n",
    "          > by multiplying, this ensures that ONLY ExPot values are present in areas where there is forest resource  \n",
    "          > you cannot have the potential of forest extraction in areas where there is not forest (i.e. deforested land, urban area etc)\n",
    "5. Rescale final 'forest impact' hazard layer to 0-100\n"
   ]
  },
  {
   "cell_type": "markdown",
   "metadata": {},
   "source": [
    "<a id= \"workspaces\"></a>\n",
    "\n",
    "#  Set Workspaces\n",
    "Set variable names  \n",
    "Put all your downloaded data into one file and load into GIS.  \n",
    "Put data layers into their own files (e.g. ESA into the ESA_LandCover)  \n",
    "this will be helpful when you have raster layers that may change by year or location  "
   ]
  },
  {
   "cell_type": "code",
   "execution_count": 2,
   "metadata": {},
   "outputs": [],
   "source": [
    "from arcgis.gis import arcgis\n",
    "import arcpy\n",
    "import os\n",
    "from arcpy.ia import * #so you can run the Con tool "
   ]
  },
  {
   "cell_type": "markdown",
   "metadata": {},
   "source": [
    "## Setting new geodatabase folder to save new layers\n",
    "<a id= \"new_gdb\"></a>"
   ]
  },
  {
   "cell_type": "code",
   "execution_count": 2,
   "metadata": {},
   "outputs": [
    {
     "data": {
      "text/html": [
       "<div class='gpresult'><h2>Messages</h2><div id='messages' data-messages='[\"Start Time: Wednesday, 3 April 2024 11:08:17 AM\",\"Succeeded at Wednesday, 3 April 2024 11:08:20 AM (Elapsed Time: 3.05 seconds)\"]' data-show='true'><div id = 'default' /></div></div>"
      ],
      "text/plain": [
       "<Result 'C:\\\\Users\\\\jc446202\\\\OneDrive - James Cook University (1)\\\\ACIAR_spatial\\\\modified_dat\\\\Forest_ExPot.gdb'>"
      ]
     },
     "execution_count": 2,
     "metadata": {},
     "output_type": "execute_result"
    }
   ],
   "source": [
    "#creating a new workspace gdb file to put files into\n",
    "#-----------------------------------------------------------------------\n",
    "#If this is the first time running this code, run the createfilegdb line\n",
    "#otherwise, keep commented out if you are continuing your work \n",
    "#-----------------------------------------------------------------------\n",
    "\n",
    "#Notice here, that the file path is routed to a folder on your computer. It creates a few folder geodatabase called Forest_ExPot\n",
    "#arcpy.management.CreateFileGDB(r\"C:\\Users\\jc446202\\OneDrive - James Cook University (1)\\ACIAR_spatial\\modified_dat\", \"Forest_ExPot\", \"CURRENT\")\n"
   ]
  },
  {
   "cell_type": "markdown",
   "metadata": {},
   "source": [
    "## Setting folder for downloaded raw data files\n",
    "<a id= \"raw_data\"></a>"
   ]
  },
  {
   "cell_type": "code",
   "execution_count": 3,
   "metadata": {},
   "outputs": [],
   "source": [
    "#create file path directory   \n",
    "# to where you have saved your downloaded data  \n",
    "#When running through this code, the new files will save into the gdb folder created above\n",
    "\n",
    "#this is naming the folder pathway \"downloaded_data\" so you can easily reference it in this code.   \n",
    "#you need to change the path to where you have saved the downloaded data\n",
    "downloaded_data = r\"C:/Users/jc446202/OneDrive - James Cook University (1)/ACIAR_spatial/modified_dat/forest_impact_files\""
   ]
  },
  {
   "cell_type": "markdown",
   "metadata": {},
   "source": [
    "## Setting your workspaces\n",
    "<a id= \"workspaces\"></a>"
   ]
  },
  {
   "cell_type": "code",
   "execution_count": 4,
   "metadata": {},
   "outputs": [],
   "source": [
    "#setting your workspaces  \n",
    "#so you dont have to reference your file paths again for the rest of this code. do it once here         \n",
    "gdb_workspace = r\"C:/Users/jc446202/OneDrive - James Cook University (1)/ACIAR_spatial/modified_dat/Forest_ExPot.gdb\"             \n",
    "# r means read the raw file path name and doesnt interpret \\ as python syntax fxns"
   ]
  },
  {
   "cell_type": "code",
   "execution_count": 4,
   "metadata": {},
   "outputs": [],
   "source": [
    "# now you can use:\n",
    "#arcpy.env.workspace = gdb_workspace  #to set your current workspace to the gdb folder - for when you want to save new layers \n",
    "arcpy.env.workspace = downloaded_data #for when you want to work with the raw files - this will not be used very often, but only to call the raw files if needed"
   ]
  },
  {
   "cell_type": "code",
   "execution_count": 5,
   "metadata": {},
   "outputs": [
    {
     "name": "stdout",
     "output_type": "stream",
     "text": [
      "C:/Users/jc446202/OneDrive - James Cook University (1)/ACIAR_spatial/modified_dat/forest_impact_files\n",
      "C:/Users/jc446202/OneDrive - James Cook University (1)/ACIAR_spatial/modified_dat/Forest_ExPot.gdb\n",
      "C:/Users/jc446202/OneDrive - James Cook University (1)/ACIAR_spatial/modified_dat/forest_impact_files\n"
     ]
    }
   ],
   "source": [
    "#check workspace\n",
    "print(arcpy.env.workspace)\n",
    "print(gdb_workspace)\n",
    "print(downloaded_data)"
   ]
  },
  {
   "cell_type": "markdown",
   "metadata": {},
   "source": [
    "<a id= \"layersrequired\"></a>\n",
    "\n",
    "# Layers required\n",
    "\n",
    "\n",
    "**these files should be saved in a folder that only keeps downloaded data**  \n",
    "set the downloaded data file path in the cell above\n",
    "\n",
    "Shapefiles should be projected to WGS 1984 PDC Mercator  \n",
    "Load data to Arc Project (drag and drop from file or Add Data)  \n",
    "All raw downloaded files are in \"Forest_Impact_Files\"  \n",
    "You should only have *ONE* folder. All these files get put in that folder and will run.  \n",
    "if you want to expand to another region, or do this for multiple years, those will need to be in separate folders  \n",
    "<br>\n",
    "   \n",
    "1. Solomon Islands country vector file, projected  \n",
    "name whatever you like, you will change the name later in the code  \n",
    "    - \"Solomons_country_p\"  \n",
    "<br>  \n",
    "2. Solomon Islands country LINE file, projected  \n",
    "name whatever you like, you will change the name later in the code  \n",
    "if you dont have this, just convert the country polygon to a line\n",
    "    - \"Solomons_line_p\"  \n",
    "<br>  \n",
    "3. Roads - from open street maps   \n",
    "https://planet.openstreetmap.org/  \n",
    "https://solomonislands-data.sprep.org/dataset/openstreetmap-data-solomon-islands\n",
    "use the osm_roads_free data  \n",
    "clipped for the Solomon Islands, and projected  \n",
    "name whatever you like, you will change the name later in the code  \n",
    "    - \"osm_SI_roads_p\"  \n",
    "<br>   \n",
    "4. DEM data  \n",
    "https://solomonislands-data.sprep.org/dataset/aster-global-digital-elevation-model-gdem-version-3-astgtm-solomon-islands  \n",
    "clipped to solomon islands, and projected, 31m resolution  \n",
    "name whatever you like, you will change the name later in the code  \n",
    "    - \"si_dem\"   \n",
    "\n",
    "5. Land Use Map  \n",
    "ESA World Cover Map, 10 m resolution, annual updates, 22 thematic classes  \n",
    "https://esa-worldcover.org/en  \n",
    "Need to download all tile covering solomon islands  \n",
    "Keep the file names the defaiult downloaded name:  \n",
    "    > ESA_WorldCover_10m_2020_v100_S12E165_Map.tif    \n",
    "    > ESA_WorldCover_10m_2020_v100_S12E162_Map.tif    \n",
    "    > ESA_WorldCover_10m_2020_v100_S12E159_Map.tif    \n",
    "    > ESA_WorldCover_10m_2020_v100_S12E156_Map.tif    \n",
    "    > ESA_WorldCover_10m_2020_v100_S09E162_Map.tif      \n",
    "    > ESA_WorldCover_10m_2020_v100_S09E159_Map.tif    \n",
    "    > ESA_WorldCover_10m_2020_v100_S09E156_Map.tif    \n",
    "    > ESA_WorldCover_10m_2020_v100_S09E153_Map.tif  \n",
    "     \n",
    "ESA World Cover Color Legend  \n",
    "Legend to go with ESA land cover layer.   \n",
    "  \n",
    "    - 10 = Tree Cover  \n",
    "    - 20 = Shrubland  \n",
    "    - 30 = Grassland  \n",
    "    - 40 = Cropland  \n",
    "    - 50 = Built Up  \n",
    "    - 60 = Bare/Sparse Vegetation  \n",
    "    - 70 = Snow and Ice  \n",
    "    - 80 = Permanent Water Bodies  \n",
    "    - 90 = Herbaceous Wetland  \n",
    "    - 95 = Mangroves  \n",
    "  "
   ]
  },
  {
   "cell_type": "markdown",
   "metadata": {},
   "source": [
    "<a id= \"layerscreated\"></a>\n",
    "\n",
    "# Layers Created"
   ]
  },
  {
   "cell_type": "markdown",
   "metadata": {},
   "source": [
    "\n",
    "## Layers Downloaded:  (in forest impact files)\n",
    "\n",
    "These are the same layers that get copied over to geodatabase file (except for the ESA_Worldcover one - which are tiled to create the esa2020_si)  \n",
    "\n",
    "| Layer_Name | File_Type | Description |\n",
    "|    :---    |  :---     |  :---   |\n",
    "|**esa2020_si**   | Raster  |  land cover layer from ESA, for Solomons  |\n",
    "|**ESA_WorldCover_10m_2020_v100_S09E153_Map.tif** | Raster | Land cover layer of ESA tile |\n",
    "|**ESA_WorldCover_10m_2020_v100_S09E156_Map.tif** | Raster | Land cover layer of ESA tile |\n",
    "|**ESA_WorldCover_10m_2020_v100_S09E159_Map.tif** | Raster | Land cover layer of ESA tile |\n",
    "|**ESA_WorldCover_10m_2020_v100_S09E162_Map.tif** | Raster | Land cover layer of ESA tile |\n",
    "|**ESA_WorldCover_10m_2020_v100_S12E156_Map.tif** | Raster | Land cover layer of ESA tile |\n",
    "|**ESA_WorldCover_10m_2020_v100_S12E159_Map.tif** | Raster | Land cover layer of ESA tile |\n",
    "|**ESA_WorldCover_10m_2020_v100_S12E162_Map.tif** | Raster | Land cover layer of ESA tile |\n",
    "|**ESA_WorldCover_10m_2020_v100_S12E165_Map.tif** | Raster | Land cover layer of ESA tile |\n",
    "|**osm_SI_roads_p.shp** | shapfile, line | Open Street Map Roads layer |\n",
    "|**si_dem** | raster | DEM elevation |\n",
    "|**Solomons_Country_p.shp** | shapfile, polygon | Country polygon of islands |\n",
    "|**solomons_line.shp** | shapfile, line | Outline of islands |\n",
    "\n"
   ]
  },
  {
   "cell_type": "markdown",
   "metadata": {},
   "source": [
    "\n",
    "##   Forest Resource Layers\n",
    "\n",
    "| Layer_Name | File_Type | Description |\n",
    "|    :---    |  :---     |  :---   |\n",
    "|**forest_class**      | Raster  |    classified forest layers, where 1 = forest or mangrove, 0 = everything else  |\n",
    "|**esa2020_si**   | Raster  |  land cover layer from ESA, for Solomons  |"
   ]
  },
  {
   "cell_type": "markdown",
   "metadata": {},
   "source": [
    "\n",
    "## Access Measures  \n",
    "\n",
    "Distance Measures  \n",
    "  \n",
    "| Distance Measures | File_Type | Description |\n",
    "|    :---           |  :---     |  :---       |\n",
    "|**d_coast**        | Raster    |  distance to coast - going both on land and out to sea out to 25 km  |\n",
    "|**d_coast_land**   | Raster    |  distance to coast on land only  |\n",
    "|**d_coast_scale**  | Raster    |  scaled distance to coast on land. close to coast = 100, far from coast = 0  |\n",
    "\n",
    "Road Measures \n",
    "   \n",
    "| Road Measures | File_Type | Description |\n",
    "|    :---       |  :---     |  :---       | \n",
    "|**osm_SI_roads_p_shp**            | shapefile, line  |  open street map of SI roads, projected  |\n",
    "|**roads_buff_1k**                 | shapefile  |  500 m either side buffer of roads, total to 1km swath  |\n",
    "|**roads_buff_1k_rast**            | Raster     |  500 m either side of buffer, 1 km swath raster | \n",
    "\n",
    "\n",
    "Slope/Elevation Measures  \n",
    "  \n",
    "| Slope/Elevation Measures | File_Type | Description |\n",
    "|    :---         |  :---     |  :---       |  \n",
    "|**slope**     | Raster  | slope raster from si_dem  |\n",
    "|**slope_class**      | Raster  | classified slope values  0-21deg = 100, 21-31 = 50, >31 = 0  |\n",
    "|**evelation_class**  | Raster  | classified elevation where values >400 m elevation are no access (0), and under 400 m are high access (100)  |\n",
    "  \n",
    "Adjancent Habitat Measures  \n",
    "  \n",
    "| Adjacent habitat Measures | File_Type | Description |\n",
    "|    :---         |  :---     |  :---       |  \n",
    "|**esa2020_si**                        | Raster   |  land cover layer from ESA, for Solomons  |\n",
    "|**LandCover_poly**                    | polygon  |  polygon layer of esa land cover types  |\n",
    "|**modified_land**                     | Polygon  |  deforested, cropland, grassland, and built up area polygons  |\n",
    "|**areas_adjacent_to_modified_land**   | polygon  |  200 m buffer area around all modified lands    |\n",
    "|**areas_adjacent_to_modified_land**   | raster   |  raster of 200m buffer area around modified lands |\n",
    "  \n",
    "Access Measures  \n",
    "  \n",
    "| Access Measures | File_Type | Description |\n",
    "|    :---         |  :---     |  :---       |   \n",
    "|**forest_access_all**         | Raster  | access to forest resources, the combination of distance to coast, road buffer, slope class, and modified land buffer  |\n",
    "|**forest_access_scale**   | Raster  | scaled forest access 100 - 0. 100 = high access, 0 = no access.  |\n",
    "\n",
    "\n",
    "Potential Exploitation\n",
    "| PotExp Measures | File_Type | Description |\n",
    "|    :---         |  :---     |  :---       |   \n",
    "|**forest_potential_exploitation**         | Raster  | forest_class x forest_access_scale. multiplied bc there cannot be potential exploitation where there is not forest  |\n",
    "|**forest_access_scale**                   | Raster  | scaled forest potential exploitation 100 - 0. 100 = high potexp, 0 = no potexp.  |\n",
    "\n",
    "\n"
   ]
  },
  {
   "cell_type": "markdown",
   "metadata": {},
   "source": [
    "## Forest Impact\n",
    "\n",
    "| Impact Measures | File_Type | Description |\n",
    "|    :---         |  :---     |  :---       |  \n",
    "|**forest_impact**         | Raster  | combined forest_scale * forest_access_scale rasters. product.  |\n",
    "|**forest_impact_scale**   | Raster  | scaled forest access value 0-100.  |"
   ]
  },
  {
   "cell_type": "markdown",
   "metadata": {},
   "source": [
    "<a id= \"editing\"></a>\n",
    "\n",
    "\n",
    "# 1. Parameters Needing Editing\n",
    "\n",
    "You need to:  \n",
    "- and/or define certain parameters that might influence the Hazard output.  \n",
    "- Listed below are default values, but can be changed if desired   \n",
    "- These values will vary based on expert and informed knowledge about ecological, biophysical and social parameters  \n",
    "\n",
    "### Need to rename the following layers:\n",
    "- the polygon of the country outline\n",
    "- the line file of the country outline\n",
    "- roads layer\n",
    "- dem elevation raster layer\n",
    "\n",
    "\n",
    "### Need to set a value for the following parameters\n",
    "\n",
    "    \n",
    "**\"road_buff_dist\"**     \n",
    "    Default =  \"500 Meters\"  \n",
    "    the distance that is relevant to create access to forested areas adjacent to roads  \n",
    "    \n",
    "**\"elevation_cutoff\"**  \n",
    "    Default = 400 meters  \n",
    "    areas above 400 m elevation cannot be logged.  \n",
    "    \n",
    "**project_coord**  \n",
    "    Default = WGS_1984_PDC_Mercator\n",
    "    the projects coordinate system to use for this analysis\n",
    "      \n",
    "**gcs_coord**  \n",
    "    Default = GCS_WGS_1984\n",
    "    the geographic coordinate system. in case you need to convert"
   ]
  },
  {
   "cell_type": "markdown",
   "metadata": {},
   "source": [
    "<a id= \"filenames\"></a>\n",
    "\n",
    "## Setting file names"
   ]
  },
  {
   "cell_type": "code",
   "execution_count": 6,
   "metadata": {},
   "outputs": [],
   "source": [
    "#HERE you need to CHANGE THE NAMES OF THE FILES on the right of the = sign \n",
    "# name you want to keep = name you have your data currently saved as\n",
    "# using the names of the files you have downloaded\n",
    "# only need to change the below files\n",
    "# do *NOT* change the file names for the land cover (keep them as default when downloaded)\n",
    "\n",
    "#changing downloaded shapefile to a consistent name\n",
    "country_polygon = 'Solomons_country_p'            #this is where you will change the name of the shapefile you have downloaded (The right hand side of the \"=\" sign) \n",
    "country_line = 'solomons_line'\n",
    "roads = 'osm_SI_roads_p'\n",
    "\n",
    "#change DEM layer to a consistent name\n",
    "DEM = 'si_dem'\n"
   ]
  },
  {
   "cell_type": "markdown",
   "metadata": {},
   "source": [
    "<a id= \"parameters\"></a>\n",
    "\n",
    "## Setting Parameters\n",
    "\n",
    "These are values you need to change depending on your preferences or relevant literature. \n",
    "if unsure, keep them as the default."
   ]
  },
  {
   "cell_type": "code",
   "execution_count": 7,
   "metadata": {},
   "outputs": [],
   "source": [
    "\n",
    "#Road buffer distance\n",
    "road_buff_dist = \"500 Meters\" #Default is '500 Meters' (1 km swath total)\n"
   ]
  },
  {
   "cell_type": "code",
   "execution_count": 8,
   "metadata": {},
   "outputs": [],
   "source": [
    "#elevation cutoff\n",
    "\n",
    "elevation_cutoff = 400 #default is 400 m\n"
   ]
  },
  {
   "cell_type": "markdown",
   "metadata": {},
   "source": [
    "<a id= \"coordinates\"></a>\n",
    "\n",
    "## Setting Coordinate Systems\n",
    "\n",
    "You need to set projected and geographic coordinate systems so all your files are in the same system.  \n",
    "For solomons keep as defauly below unless you have a specific reason to change these. "
   ]
  },
  {
   "cell_type": "code",
   "execution_count": 36,
   "metadata": {},
   "outputs": [
    {
     "data": {
      "text/html": [
       "<style>table td#td0  {font-weight: bold}</style><table class=\"notebook\"><colgroup><col style=\"width:45%\"></col><col style=\"width:55%\"></col></colgroup><tr><td id = \"td0\" title=\"name (Projected Coordinate System)\">name (Projected Coordinate System)</td><td title=\"WGS_1984_PDC_Mercator\">WGS_1984_PDC_Mercator</td></tr><tr><td id = \"td0\" title=\"factoryCode (WKID)\">factoryCode (WKID)</td><td title=\"3832\">3832</td></tr><tr><td id = \"td0\" title=\"linearUnitName (Linear Unit)\">linearUnitName (Linear Unit)</td><td title=\"Meter\">Meter</td></tr></table><div class=\"subtitle\">spatialReference.GCS</div><style>table td#td0  {font-weight: bold}</style><table class=\"notebook\"><colgroup><col style=\"width:45%\"></col><col style=\"width:55%\"></col></colgroup><tr><td id = \"td0\" title=\"name (Geographic Coordinate System)\">name (Geographic Coordinate System)</td><td title=\"GCS_WGS_1984\">GCS_WGS_1984</td></tr><tr><td id = \"td0\" title=\"factoryCode (WKID)\">factoryCode (WKID)</td><td title=\"4326\">4326</td></tr><tr><td id = \"td0\" title=\"angularUnitName (Angular Unit)\">angularUnitName (Angular Unit)</td><td title=\"Degree\">Degree</td></tr><tr><td id = \"td0\" title=\"datumName (Datum)\">datumName (Datum)</td><td title=\"D_WGS_1984\">D_WGS_1984</td></tr></table>"
      ],
      "text/plain": [
       "<SpatialReference object at 0x27e8c8db040[0x27e8ca94050]>"
      ]
     },
     "execution_count": 36,
     "metadata": {},
     "output_type": "execute_result"
    }
   ],
   "source": [
    "#Projected coordinate system\n",
    "\n",
    "project_coord = arcpy.SpatialReference('WGS_1984_PDC_Mercator')  #default = 'WGS_1984_PDC_Mercator'\n",
    "project_coord"
   ]
  },
  {
   "cell_type": "code",
   "execution_count": 10,
   "metadata": {},
   "outputs": [
    {
     "data": {
      "text/html": [
       "<style>table td#td0  {font-weight: bold}</style><table class=\"notebook\"><colgroup><col style=\"width:45%\"></col><col style=\"width:55%\"></col></colgroup><tr><td id = \"td0\" title=\"name (Geographic Coordinate System)\">name (Geographic Coordinate System)</td><td title=\"GCS_WGS_1984\">GCS_WGS_1984</td></tr><tr><td id = \"td0\" title=\"factoryCode (WKID)\">factoryCode (WKID)</td><td title=\"4326\">4326</td></tr><tr><td id = \"td0\" title=\"angularUnitName (Angular Unit)\">angularUnitName (Angular Unit)</td><td title=\"Degree\">Degree</td></tr><tr><td id = \"td0\" title=\"datumName (Datum)\">datumName (Datum)</td><td title=\"D_WGS_1984\">D_WGS_1984</td></tr></table>"
      ],
      "text/plain": [
       "<SpatialReference object at 0x1e9c5b87070[0x1e9c60a1410]>"
      ]
     },
     "execution_count": 10,
     "metadata": {},
     "output_type": "execute_result"
    }
   ],
   "source": [
    "#Geographic coordinate system\n",
    "\n",
    "gcs_coord = arcpy.SpatialReference('GCS_WGS_1984') #default = 'GCS_WGS_1984'\n",
    "gcs_coord"
   ]
  },
  {
   "cell_type": "markdown",
   "metadata": {},
   "source": [
    "<a id= \"manipulations\"></a>\n",
    "\n",
    "# 2. Manipulating downloaded data "
   ]
  },
  {
   "cell_type": "markdown",
   "metadata": {},
   "source": [
    "<a id= \"esacompile\"></a>\n",
    "\n",
    "\n",
    "## Compiling ESA Land Cover data"
   ]
  },
  {
   "cell_type": "code",
   "execution_count": 15,
   "metadata": {},
   "outputs": [
    {
     "name": "stdout",
     "output_type": "stream",
     "text": [
      "['ESA_WorldCover_10m_2020_v100_S09E153_Map.tif', 'ESA_WorldCover_10m_2020_v100_S09E156_Map.tif', 'ESA_WorldCover_10m_2020_v100_S09E159_Map.tif', 'ESA_WorldCover_10m_2020_v100_S09E162_Map.tif', 'ESA_WorldCover_10m_2020_v100_S12E156_Map.tif', 'ESA_WorldCover_10m_2020_v100_S12E159_Map.tif', 'ESA_WorldCover_10m_2020_v100_S12E162_Map.tif', 'ESA_WorldCover_10m_2020_v100_S12E165_Map.tif']\n",
      "8\n"
     ]
    }
   ],
   "source": [
    "#list all ESA rasters in the downloaded data file (forest_impact_files)\n",
    "arcpy.env.workspace = downloaded_data\n",
    "ESA_List = arcpy.ListRasters(\"ESA*\") # * is a wild cards. says select anything that has \"ESA...\" and any value after that.\n",
    "print(ESA_List)\n",
    "print(len(ESA_List))"
   ]
  },
  {
   "cell_type": "code",
   "execution_count": 18,
   "metadata": {},
   "outputs": [
    {
     "name": "stdout",
     "output_type": "stream",
     "text": [
      "Processing ESA Land Cover Mosaic\n",
      "Number of tiles to be Mosaicked: 8\n",
      "Land Cover Mosaic Completed!\n"
     ]
    }
   ],
   "source": [
    "#select all files in folder, and make new raster\n",
    "#saves new tiled layer to the downloaded data folder (Forest Impact Files)\n",
    "#this code should still work regardless of year, the file names just need to have ESA in them\n",
    "\n",
    "print(\"Processing ESA Land Cover Mosaic\")\n",
    "print(\"Number of tiles to be Mosaicked: \" + str(len(ESA_List)))\n",
    "arcpy.management.MosaicToNewRaster(ESA_List, downloaded_data, \"esa2020_si\", None, \"8_BIT_UNSIGNED\", None, 1, \"LAST\", \"FIRST\")   \n",
    "   \n",
    "print(\"Land Cover Mosaic Completed!\")\n"
   ]
  },
  {
   "cell_type": "markdown",
   "metadata": {},
   "source": [
    "<a id= \"movelayers\"></a>\n",
    "\n",
    "\n",
    "## Moving downloaded data to gdb and saving as new file names\n",
    "\n",
    "within the loop below we will be :  \n",
    "    1. selecting layers in downloaded data folder  \n",
    "    2. checking and then converting to projected coordinate system in they need  \n",
    "    3. saving new projected layer to geodatabase folder. \n"
   ]
  },
  {
   "cell_type": "code",
   "execution_count": 11,
   "metadata": {},
   "outputs": [
    {
     "name": "stdout",
     "output_type": "stream",
     "text": [
      "['osm_SI_roads_p.shp', 'Solomons_country_p.shp', 'solomons_line.shp']\n",
      "['esa2020_si', 'ESA_WorldCover_10m_2020_v100_S09E153_Map.tif', 'ESA_WorldCover_10m_2020_v100_S09E156_Map.tif', 'ESA_WorldCover_10m_2020_v100_S09E159_Map.tif', 'ESA_WorldCover_10m_2020_v100_S09E162_Map.tif', 'ESA_WorldCover_10m_2020_v100_S12E156_Map.tif', 'ESA_WorldCover_10m_2020_v100_S12E159_Map.tif', 'ESA_WorldCover_10m_2020_v100_S12E162_Map.tif', 'ESA_WorldCover_10m_2020_v100_S12E165_Map.tif', 'si_dem']\n"
     ]
    }
   ],
   "source": [
    "#list all files in downloaded data folder to check everything downloaded ok\n",
    "\n",
    "#set workspace to downloaded data file\n",
    "arcpy.env.workspace = downloaded_data\n",
    "\n",
    "#list feature classes\n",
    "featureclasses_downloaded = arcpy.ListFeatureClasses()\n",
    "print(featureclasses_downloaded)\n",
    "\n",
    "#list rasters\n",
    "downloaded_rasters = arcpy.ListRasters()\n",
    "print(downloaded_rasters)"
   ]
  },
  {
   "cell_type": "code",
   "execution_count": 17,
   "metadata": {},
   "outputs": [
    {
     "name": "stdout",
     "output_type": "stream",
     "text": [
      "Layer 'osm_SI_roads_p.shp' projected and saved to 'C:/Users/jc446202/OneDrive - James Cook University (1)/ACIAR_spatial/modified_dat/Forest_ExPot.gdb\\osm_SI_roads_p_shp'\n",
      "Layer 'Solomons_country_p.shp' projected and saved to 'C:/Users/jc446202/OneDrive - James Cook University (1)/ACIAR_spatial/modified_dat/Forest_ExPot.gdb\\Solomons_country_p_shp'\n",
      "Layer 'solomons_line.shp' projected and saved to 'C:/Users/jc446202/OneDrive - James Cook University (1)/ACIAR_spatial/modified_dat/Forest_ExPot.gdb\\solomons_line_shp'\n",
      "Conversion complete.\n"
     ]
    }
   ],
   "source": [
    "for layer in featureclasses_downloaded:\n",
    "    # Get the full path of the input layer\n",
    "    input_layer_path = os.path.join(downloaded_data, layer)\n",
    "    \n",
    "    # Generate a new name for the output layer\n",
    "    output_layer_name = arcpy.ValidateTableName(layer, gdb_workspace)\n",
    "    \n",
    "    # Set the output layer path in the geodatabase\n",
    "    output_layer_path = os.path.join(gdb_workspace, output_layer_name)\n",
    "    \n",
    "    # Project the layer to the target spatial reference\n",
    "    arcpy.management.Project(input_layer_path, output_layer_path, project_coord)\n",
    "    \n",
    "    print(f\"Layer '{layer}' projected and saved to '{output_layer_path}'\")\n",
    "\n",
    "print(\"Conversion complete.\")"
   ]
  },
  {
   "cell_type": "code",
   "execution_count": 13,
   "metadata": {},
   "outputs": [
    {
     "name": "stdout",
     "output_type": "stream",
     "text": [
      "('esa2020_si', 'si_dem')\n"
     ]
    }
   ],
   "source": [
    "# want to move the raster layers to the geodatabase\n",
    "#but only want to move the combined esa layers (esa2020_si) and the dem layer \n",
    "rasters_to_move = \"esa2020_si\", \"si_dem\"\n",
    "print(rasters_to_move)"
   ]
  },
  {
   "cell_type": "code",
   "execution_count": 14,
   "metadata": {},
   "outputs": [
    {
     "name": "stdout",
     "output_type": "stream",
     "text": [
      "Layer 'esa2020_si' projected and saved to 'C:/Users/jc446202/OneDrive - James Cook University (1)/ACIAR_spatial/modified_dat/Forest_ExPot.gdb\\esa2020_si'\n",
      "Layer 'si_dem' projected and saved to 'C:/Users/jc446202/OneDrive - James Cook University (1)/ACIAR_spatial/modified_dat/Forest_ExPot.gdb\\si_dem'\n",
      "Conversion complete.\n"
     ]
    }
   ],
   "source": [
    "#project then copy to geodatabase\n",
    "#this gets the rasters we want to move, projects them, and then copies them to geodatabase (ExPot)\n",
    "#\n",
    "for layer in rasters_to_move:\n",
    "    # Get the full path of the input layer\n",
    "    input_layer_path = os.path.join(downloaded_data, layer)\n",
    "    \n",
    "    # Generate a new name for the output layer\n",
    "    output_layer_name = arcpy.ValidateTableName(layer, gdb_workspace)\n",
    "    \n",
    "    # Set the output layer path in the geodatabase\n",
    "    output_layer_path = os.path.join(gdb_workspace, output_layer_name)\n",
    "    \n",
    "    # Project the layer to the target spatial reference\n",
    "    arcpy.management.ProjectRaster(input_layer_path, output_layer_path, project_coord)\n",
    "    \n",
    "    print(f\"Layer '{layer}' projected and saved to '{output_layer_path}'\")\n",
    "\n",
    "print(\"Conversion complete.\")"
   ]
  },
  {
   "cell_type": "code",
   "execution_count": 16,
   "metadata": {},
   "outputs": [
    {
     "name": "stdout",
     "output_type": "stream",
     "text": [
      "['osm_SI_roads_p_shp', 'Solomons_country_p_shp', 'solomons_line_shp']\n"
     ]
    }
   ],
   "source": [
    "#set workspace to geodatabase now:\n",
    "arcpy.env.workspace = gdb_workspace\n",
    "gdb_shapefiles = arcpy.ListFeatureClasses()\n",
    "print(gdb_shapefiles)"
   ]
  },
  {
   "cell_type": "code",
   "execution_count": 19,
   "metadata": {},
   "outputs": [],
   "source": [
    "#Renaming the files in the gdb folder\n",
    "\n",
    "\n",
    "#changing downloaded shapefile to a consistent name\n",
    "country_polygon = 'Solomons_country_p_shp'            #this is where you will change the name of the shapefile you have downloaded (The right hand side of the \"=\" sign) \n",
    "country_line = 'solomons_line_shp'\n",
    "roads = 'osm_SI_roads_p_shp'\n",
    "\n",
    "#change DEM layer to a consistent name\n",
    "DEM = 'si_dem'\n",
    "\n",
    "\n"
   ]
  },
  {
   "cell_type": "markdown",
   "metadata": {},
   "source": [
    "<a id= \"ForestCover\"></a>\n",
    "\n",
    "# 3. Forest Cover\n",
    "\n",
    "Want to reclassify the raster to forest or non forest using the ESA World Cover (\"esa2020_si\")  \n",
    "\n",
    "Forest = \"Forest\" (10) and \"Mangrove\" (95)  \n",
    "\n",
    "Non-Forest = all other layers  \n",
    "\n",
    "**resulting layer will be:**  \n",
    "\n",
    "1 = forest and mangrove habitat  \n",
    "0 = all other layers  \n",
    "\n",
    "Original ESA layers are:  \n",
    "\n",
    "10 = Tree Cover   \n",
    "20 = Shrubland   \n",
    "30 = Grassland    \n",
    "40 = Cropland     \n",
    "50 = Built Up     \n",
    "60 = Bare/Sparse Vegetation    \n",
    "70 = Snow and Ice    \n",
    "80 = Permanent Water Bodies    \n",
    "90 = Herbaceous Wetland      \n",
    "95 = Mangroves    \n"
   ]
  },
  {
   "cell_type": "code",
   "execution_count": 20,
   "metadata": {},
   "outputs": [
    {
     "data": {
      "text/plain": [
       "'CheckedIn'"
      ]
     },
     "execution_count": 20,
     "metadata": {},
     "output_type": "execute_result"
    }
   ],
   "source": [
    "#reclassify land cover\n",
    "\n",
    "#might need to run the checkoutExtension\n",
    "arcpy.CheckOutExtension(\"Spatial\")\n",
    "\n",
    "# Define the input raster dataset\n",
    "input_raster = \"esa2020_si\"\n",
    "\n",
    "# Define the reclassification table\n",
    "reclassification_table = \"10 1;20 0;30 0;40 0;50 0;60 0;80 0;90 0;95 1\"\n",
    "\n",
    "# Define the output raster dataset path\n",
    "output_raster = os.path.join(gdb_workspace, \"forest_class\")\n",
    "\n",
    "# Run the Reclassify tool\n",
    "arcpy.ddd.Reclassify(input_raster, \"Value\", reclassification_table, output_raster)\n",
    "\n",
    "#check the license back in when done\n",
    "arcpy.CheckInExtension(\"Spatial\")"
   ]
  },
  {
   "cell_type": "markdown",
   "metadata": {},
   "source": [
    "<a id= \"AccessLayer\"></a>\n",
    "\n",
    "# 4. Access Layer \n",
    "\n",
    "\n",
    "Access will be dictacted by four aspects:  \n",
    "A. **Distance to coast**   \n",
    "    villages and locals are not the primary culprit of deforestation. \n",
    "    often logging companies build temporary logging stations along the coast to access forest areas\n",
    "    Currently the distance measure is set to a linear metric\n",
    "    Can probably change to another relationship, for example \n",
    "        you might want a gaussian curve, where access (use) is low very very near the coast, \n",
    "        increases when a little bit inland, \n",
    "        and then decreases rapidly the further inland you go.  \n",
    "        but tbd if we want to do this \n",
    "    \n",
    "B. **Road access**     \n",
    "    roads are a primary driver of deforestation  \n",
    "    1 km road buffers are set as default.  \n",
    "    \n",
    "C. **Slope**  \n",
    "steep slopes less likely to be deforested compared to flat land   \n",
    "        > 31 degree slope = not accessible  \n",
    "        21 - 31 = moderately accessbiel  \n",
    "        < 21 = very accessible  \n",
    "        \n",
    "D. **Elevation**  \n",
    "Areas >400 m are not allowed to be forested based on SI forestry policy. \n",
    "        > 400 m = not accessbile (0)\n",
    "        < 400 m = accessbile (100)\n",
    "        while I know that it not always followed, when combined, the distance to coast, and slope layers do allow use of forest resources above 400m \n",
    "\n",
    "E. **Adjacent to previously modified land**     \n",
    "    areas adjacent to modified land are more likely to be deforested. \n",
    "    i. deforestation, agriculture, urban areas all get combined into a measure of 'modification'  \n",
    "    ii. modified areas get aggregated into larger polygons, so there is not so many small polys to work with  \n",
    "    iii. variable buffer areas related to modified land size get created. where smaller areas have smaller buffers, and larger areas have larger buffers.\n",
    "    "
   ]
  },
  {
   "cell_type": "markdown",
   "metadata": {},
   "source": [
    "<a id= \"distcoast\"></a>\n",
    "\n",
    "## Distance to Coast"
   ]
  },
  {
   "cell_type": "code",
   "execution_count": 23,
   "metadata": {},
   "outputs": [
    {
     "data": {
      "text/plain": [
       "'CheckedOut'"
      ]
     },
     "execution_count": 23,
     "metadata": {},
     "output_type": "execute_result"
    }
   ],
   "source": [
    "#might need to run the checkoutExtension - if running in VSC\n",
    "arcpy.CheckOutExtension(\"Spatial\")"
   ]
  },
  {
   "cell_type": "code",
   "execution_count": 26,
   "metadata": {},
   "outputs": [],
   "source": [
    "#4.A Distance to Coast\n",
    "\n",
    "\n",
    "\n",
    "#euclidian distance measures \n",
    "out_distance_raster = arcpy.sa.EucDistance(country_line, 25000, 50, None, \"PLANAR\", None, None); out_distance_raster.save(\"d_coast\")\n",
    "#NOTE - it is possible to change this relationship from linear to non linear\n",
    "#would need to use rescale by function tool\n",
    "\n",
    "#extract for just land areas\n",
    "out_raster = arcpy.sa.ExtractByMask(\"d_coast\", country_polygon); out_raster.save(\"d_coast_land\")\n",
    "\n",
    "#scale distance to coast_land\n",
    "out_raster = arcpy.sa.RescaleByFunction(\"d_coast_land\", \"LINEAR # # # # # #\", 100, 0); out_raster.save(\"d_coast_scale\")\n"
   ]
  },
  {
   "cell_type": "markdown",
   "metadata": {},
   "source": [
    "<a id= \"roads\"></a>\n",
    "\n",
    "## Road Buffers"
   ]
  },
  {
   "cell_type": "code",
   "execution_count": 27,
   "metadata": {},
   "outputs": [
    {
     "name": "stdout",
     "output_type": "stream",
     "text": [
      "osm_SI_roads_p_shp\n"
     ]
    }
   ],
   "source": [
    "print(roads)"
   ]
  },
  {
   "cell_type": "code",
   "execution_count": 28,
   "metadata": {},
   "outputs": [
    {
     "data": {
      "text/html": [
       "<div class='gpresult'><h2>Messages</h2><div id='messages' data-messages='[\"Start Time: Monday, 8 April 2024 9:48:15 AM\",\"Succeeded at Monday, 8 April 2024 9:48:47 AM (Elapsed Time: 31.39 seconds)\"]' data-show='true'><div id = 'default' /></div></div>"
      ],
      "text/plain": [
       "<Result 'C:/Users/jc446202/OneDrive - James Cook University (1)/ACIAR_spatial/modified_dat/Forest_ExPot.gdb\\\\SI_roads_buff1k'>"
      ]
     },
     "execution_count": 28,
     "metadata": {},
     "output_type": "execute_result"
    }
   ],
   "source": [
    "#4.B Road Buffers\n",
    "\n",
    "#create 1km buffers around roads. select all road types.\n",
    "#written as 1k bc thats the TOTAL buffer distance (500 m on each side = 1km total)\n",
    "arcpy.analysis.Buffer(roads, \"SI_roads_buff1k\", road_buff_dist, \"FULL\", \"ROUND\", \"ALL\", None, \"PLANAR\") # this is dissolved all features \n",
    "\n",
    "#if you havent specified road_buff_dist in the code above\n",
    "#arcpy.analysis.Buffer(\"osm_SI_roads_p\", \"SI_roads_buff1k\", \"1 Kilometers\", \"FULL\", \"ROUND\", \"ALL\", None, \"PLANAR\")\n"
   ]
  },
  {
   "cell_type": "code",
   "execution_count": 29,
   "metadata": {},
   "outputs": [
    {
     "name": "stdout",
     "output_type": "stream",
     "text": [
      "Solomons_country_p_shp\n"
     ]
    }
   ],
   "source": [
    "print(country_polygon)"
   ]
  },
  {
   "cell_type": "code",
   "execution_count": 31,
   "metadata": {},
   "outputs": [
    {
     "data": {
      "text/html": [
       "<div class='gpresult'><h2>Messages</h2><div id='messages' data-messages='[\"Start Time: Monday, 8 April 2024 9:52:35 AM\",\"Succeeded at Monday, 8 April 2024 9:52:36 AM (Elapsed Time: 0.28 seconds)\"]' data-show='true'><div id = 'default' /></div></div>"
      ],
      "text/plain": [
       "<Result 'true'>"
      ]
     },
     "execution_count": 31,
     "metadata": {},
     "output_type": "execute_result"
    }
   ],
   "source": [
    "#clip buffers to land, bc some coastal roads have buffer that extend into the sea\n",
    "arcpy.analysis.Clip(\"SI_roads_buff1k\", country_polygon, \"roads_buff1k\", None)\n",
    "\n",
    "#delete first buffer file because its not useful \n",
    "arcpy.management.Delete(\"SI_roads_buff1k\")\n",
    "#rename clipped file something sensible"
   ]
  },
  {
   "cell_type": "code",
   "execution_count": 33,
   "metadata": {},
   "outputs": [],
   "source": [
    "#create new field in attribute table called VALUE (to assign Hazard value to buffer area)\n",
    "arcpy.management.AddField('roads_buff1k',\"Value\", 'SHORT',3,\"\",\"\",\"Value\",\"\",\"\",\"\")\n",
    "\n",
    "#Set road buffer value to 100\n",
    "#change value to 100 . this is the scaled data. If you want a different scale change value from 100 to whatever you want\n",
    "fc = \"roads_buff1k\"\n",
    "field = ['Value']\n",
    "\n",
    "with arcpy.da.UpdateCursor(fc, field) as cursor:\n",
    "\tfor row in cursor:\n",
    "        \tif row[0] == None: \n",
    "            \t\trow[0] = 100\n",
    "            \t\tcursor.updateRow(row) #NOTE INDENTS ARE VERY IMPORTANT\n",
    "      "
   ]
  },
  {
   "cell_type": "code",
   "execution_count": 35,
   "metadata": {},
   "outputs": [
    {
     "data": {
      "text/html": [
       "<div class='gpresult'><h2>Messages</h2><div id='messages' data-messages='[\"Start Time: Monday, 8 April 2024 9:56:14 AM\",\"Succeeded at Monday, 8 April 2024 9:56:52 AM (Elapsed Time: 38.06 seconds)\"]' data-show='true'><div id = 'default' /></div></div>"
      ],
      "text/plain": [
       "<Result 'C:/Users/jc446202/OneDrive - James Cook University (1)/ACIAR_spatial/modified_dat/Forest_ExPot.gdb\\\\roads_buff1k_rast'>"
      ]
     },
     "execution_count": 35,
     "metadata": {},
     "output_type": "execute_result"
    }
   ],
   "source": [
    "#convert to buffer layer to raster. \n",
    "#want to be the same spatial extent at the DEM raster - which should be already loaded (31m)\n",
    "arcpy.conversion.PolygonToRaster('roads_buff1k', 'Value','roads_buff1k_rast', 'CELL_CENTER', 'NONE','si_dem', 'BUILD')\n"
   ]
  },
  {
   "cell_type": "markdown",
   "metadata": {},
   "source": [
    "<a id= \"slope\"></a>\n",
    "\n",
    "## Slope"
   ]
  },
  {
   "cell_type": "code",
   "execution_count": 36,
   "metadata": {},
   "outputs": [
    {
     "data": {
      "text/html": [
       "<div class='gpresult'><h2>Messages</h2><div id='messages' data-messages='[\"Start Time: Monday, 8 April 2024 10:03:28 AM\",\"Succeeded at Monday, 8 April 2024 10:03:42 AM (Elapsed Time: 14.02 seconds)\"]' data-show='true'><div id = 'default' /></div></div>"
      ],
      "text/plain": [
       "<Result 'C:/Users/jc446202/OneDrive - James Cook University (1)/ACIAR_spatial/modified_dat/Forest_ExPot.gdb\\\\slope_class'>"
      ]
     },
     "execution_count": 36,
     "metadata": {},
     "output_type": "execute_result"
    }
   ],
   "source": [
    "#4.C Slope\n",
    "\n",
    "#Calculate slope from DEM\n",
    "arcpy.ddd.Slope(DEM, \"Slope\", \"DEGREE\", 1, \"PLANAR\", \"METER\")\n",
    "\n",
    "#Classify slope, and use scaled values (0-100)\n",
    "#0-20 degree = 100 (highest access)\n",
    "#21-31 degree = 50 (medium access)\n",
    "#>31 degree = 0 (no access)\n",
    "arcpy.ddd.Reclassify(\"Slope\", \"VALUE\", \"0 20 100;20 31 50;31 90 0\", \"slope_class\", \"DATA\")"
   ]
  },
  {
   "cell_type": "markdown",
   "metadata": {},
   "source": [
    "<a id= \"elevation\"></a>\n",
    "\n",
    "## Elevation\n",
    "\n",
    "1. identify min and max values of elevation (so that you can apply this code to any location)\n",
    "2. classify areas based on < 400 m > elevation"
   ]
  },
  {
   "cell_type": "code",
   "execution_count": 37,
   "metadata": {},
   "outputs": [
    {
     "name": "stdout",
     "output_type": "stream",
     "text": [
      "-9\n",
      "2326\n",
      "400\n",
      "100\n",
      "0\n"
     ]
    }
   ],
   "source": [
    "#4.D Elevation\n",
    "\n",
    "# identify min and max values of elevation\n",
    "\n",
    "#Set parameters\n",
    "elev_min_output = arcpy.management.GetRasterProperties(DEM, 'MINIMUM',\"\") #extracts minimum value from raster\n",
    "elev_min = int(elev_min_output.getOutput(0)) #assigns that value to an object, and converts to a integer\n",
    "\n",
    "\n",
    "elev_max_ouput = arcpy.management.GetRasterProperties(DEM, 'MAXIMUM',\"\")\n",
    "elev_max = int(elev_max_ouput.getOutput(0))\n",
    "\n",
    "# Assign elevation value and access values\n",
    "elevation_cutoff     # the elevation where no forestry is allowed above that value. Default = 400 m. this is assigned earlier in \"Set Parameters\" section\n",
    "access_val = 100\n",
    "no_access_val = 0\n",
    "\n",
    "print(elev_min)\n",
    "print(elev_max)\n",
    "print(elevation_cutoff)\n",
    "print(access_val)\n",
    "print(no_access_val)\n"
   ]
  },
  {
   "cell_type": "code",
   "execution_count": 38,
   "metadata": {},
   "outputs": [
    {
     "data": {
      "text/plain": [
       "'-9, 400, 100; 400, 2326, 0'"
      ]
     },
     "execution_count": 38,
     "metadata": {},
     "output_type": "execute_result"
    }
   ],
   "source": [
    "#create string to input into reclassify \n",
    "#this will allow you to use this code for any elevation layer and not be specific to \n",
    "\n",
    "elevation_class_val = '{}, {}, {}; {}, {}, {}'.format(elev_min, elevation_cutoff, access_val, elevation_cutoff, elev_max, no_access_val)\n",
    "elevation_class_val"
   ]
  },
  {
   "cell_type": "code",
   "execution_count": 39,
   "metadata": {},
   "outputs": [
    {
     "data": {
      "text/html": [
       "<div class='gpresult'><h2>Messages</h2><div id='messages' data-messages='[\"Start Time: Monday, 8 April 2024 10:06:27 AM\",\"Succeeded at Monday, 8 April 2024 10:06:42 AM (Elapsed Time: 14.62 seconds)\"]' data-show='true'><div id = 'default' /></div></div>"
      ],
      "text/plain": [
       "<Result 'C:/Users/jc446202/OneDrive - James Cook University (1)/ACIAR_spatial/modified_dat/Forest_ExPot.gdb\\\\elevation_class'>"
      ]
     },
     "execution_count": 39,
     "metadata": {},
     "output_type": "execute_result"
    }
   ],
   "source": [
    "\n",
    "#Classify elevation, and use scaled values (0-100)\n",
    "# < 400 m = 100 (highest access)\n",
    "# > 400 m = 0 (no access)\n",
    "arcpy.ddd.Reclassify(DEM, \"VALUE\", elevation_class_val, \"elevation_class\", \"DATA\")\n"
   ]
  },
  {
   "cell_type": "markdown",
   "metadata": {},
   "source": [
    "<a id= \"modifiedland\"></a>\n",
    "\n",
    "## Adjacent to Modified Land\n",
    "\n",
    "extracting areas of modified land and creating buffers around them\n",
    "in theory, forests that are within 200m of modified land (urban areas, agriculture) have a greater chance of being used and/or modified."
   ]
  },
  {
   "cell_type": "code",
   "execution_count": 40,
   "metadata": {},
   "outputs": [
    {
     "data": {
      "text/html": [
       "<div class='gpresult'><h2>Messages</h2><div id='messages' data-messages='[\"Start Time: Monday, 8 April 2024 10:07:57 AM\",\"Succeeded at Monday, 8 April 2024 10:09:29 AM (Elapsed Time: 1 minutes 31 seconds)\"]' data-show='true'><div id = 'default' /></div></div>"
      ],
      "text/plain": [
       "<Result 'C:/Users/jc446202/OneDrive - James Cook University (1)/ACIAR_spatial/modified_dat/Forest_ExPot.gdb\\\\LandCover_poly'>"
      ]
     },
     "execution_count": 40,
     "metadata": {},
     "output_type": "execute_result"
    }
   ],
   "source": [
    "#i. convert Land Cover Layer to Polygon\n",
    "arcpy.conversion.RasterToPolygon('esa2020_si','LandCover_poly', 'NO_SIMPLIFY', 'Value', 'SINGLE_OUTER_PART','',)\n"
   ]
  },
  {
   "cell_type": "code",
   "execution_count": 41,
   "metadata": {},
   "outputs": [],
   "source": [
    "#ii. add Land Cover Type to new field \"LandCover\"\n",
    "\n",
    "#add land cover class to attribute tables.\n",
    "arcpy.management.AddField('LandCover_poly','LandCover', 'TEXT')\n",
    "\n",
    "#input values for new fiedl\n",
    "\n",
    "fc = \"LandCover_poly\"\n",
    "fields = ['gridcode', 'LandCover']\n",
    "\n",
    "with arcpy.da.UpdateCursor(fc, fields) as cursor:\n",
    "    #for each row, evaluate the 'gridcode' field value (index position of 0)\n",
    "    #and update 'LandCover' (index position of 1)\n",
    "    for row in cursor:\n",
    "        if (row[0] == 10):\n",
    "            row[1] = \"Forest\"\n",
    "        elif (row[0] == 20):\n",
    "            row[1] = \"Shrubland\"            \n",
    "        elif (row[0] == 30):\n",
    "            row[1] = \"Grassland\"            \n",
    "        elif (row[0] == 40):\n",
    "            row[1] = \"Cropland\"            \n",
    "        elif (row[0] == 50):\n",
    "            row[1] = \"Built Up\"            \n",
    "        elif (row[0] == 60):\n",
    "            row[1] = \"Bare/Sparse Vegetation\"            \n",
    "        elif (row[0] == 70):\n",
    "            row[1] = \"Snow and Ice\"            \n",
    "        elif (row[0] == 80):\n",
    "            row[1] = \"Permanent Water Bodies\"            \n",
    "        elif (row[0] == 90):\n",
    "            row[1] = \"Herbaceous Wetland\"\n",
    "        elif (row[0] == 95):\n",
    "            row[1] = \"Mangroves\"      \n",
    "        \n",
    "        #Update cursor with the updated list\n",
    "        cursor.updateRow(row)\n",
    "            \n",
    "            \n",
    "            "
   ]
  },
  {
   "cell_type": "code",
   "execution_count": 42,
   "metadata": {},
   "outputs": [
    {
     "data": {
      "text/html": [
       "<div class='gpresult'><h2>Messages</h2><div id='messages' data-messages='[\"Start Time: Monday, 8 April 2024 10:21:54 AM\",\"Succeeded at Monday, 8 April 2024 10:21:54 AM (Elapsed Time: 0.01 seconds)\"]' data-show='true'><div id = 'default' /></div></div>"
      ],
      "text/plain": [
       "<Result 'LandCover_poly_Layer2'>"
      ]
     },
     "execution_count": 42,
     "metadata": {},
     "output_type": "execute_result"
    }
   ],
   "source": [
    "#vi select deforested, grassland, cropland, built up, bare/sparse vegetation area polygons to create a \"modified land\" layer\n",
    "#dissolve them to make the layer more manageable\n",
    "#delete the initial modified land and just keep the dissolved layers\n",
    "\n",
    "\n",
    "arcpy.management.SelectLayerByAttribute(\"LandCover_poly\", \"NEW_SELECTION\", \"LandCover = 'Shrubland' Or \\\n",
    "                                                                                 LandCover = 'Grassland' Or \\\n",
    "                                                                                 LandCover = 'Cropland' Or \\\n",
    "                                                                                 LandCover = 'Built Up' Or \\\n",
    "                                                                                 LandCover = 'Bare/Sparse Vegetation'\", \\\n",
    "                                                                                 None)\n",
    "\n",
    "arcpy.management.CopyFeatures('LandCover_poly', 'modified_land')\n",
    "\n",
    "#clear selections\n",
    "arcpy.management.SelectLayerByAttribute(\"LandCover_poly\", \"CLEAR_SELECTION\")\n",
    "\n",
    "#dissolve all modified land polygons by land type\n",
    "arcpy.management.Dissolve(\"modified_land\", \"modified_land_types\", \"LandCover\", multi_part= \"MULTI_PART\")\n",
    "\n",
    "#delete intermediate files \n",
    "arcpy.management.Delete(\"modified_land\")"
   ]
  },
  {
   "cell_type": "code",
   "execution_count": 21,
   "metadata": {},
   "outputs": [
    {
     "data": {
      "text/html": [
       "<div class='gpresult'><h2>Messages</h2><div id='messages' data-messages='[\"Start Time: Thursday, 8 February 2024 10:36:19 AM\",\"Succeeded at Thursday, 8 February 2024 10:40:10 AM (Elapsed Time: 3 minutes 50 seconds)\"]' data-show='true'><div id = 'default' /></div></div>"
      ],
      "text/plain": [
       "<Result 'C:/Users/jc446202/OneDrive - James Cook University (1)/ACIAR_spatial/modified_dat/Forest_Impact.gdb\\\\modified_land_agg_Buff200m'>"
      ]
     },
     "execution_count": 21,
     "metadata": {},
     "output_type": "execute_result"
    }
   ],
   "source": [
    "#xi. create buffer of modified land areas \n",
    "\n",
    "#commented out because it takes forever to run. be warned.\n",
    "#arcpy.analysis.Buffer(\"modified_land_types\", \"modified_land_Buff200m\", \"200 Meters\", \"OUTSIDE_ONLY\", \"ROUND\", \"ALL\", None, \"PLANAR\")\n",
    "#200 meter buffer distances. \n",
    "\n"
   ]
  },
  {
   "cell_type": "code",
   "execution_count": 16,
   "metadata": {},
   "outputs": [],
   "source": [
    "#create new field in attribute table called VALUE (to assign Hazard value of 100 to buffer area)\n",
    "\n",
    "arcpy.management.AddField('modified_land_buffer200m',\"Value\", 'SHORT',3,\"\",\"\",\"Value\",\"\",\"\",\"\")\n",
    "\n",
    "#Set modified land buffer value to 100\n",
    "fc = \"modified_land_buffer200m\"\n",
    "field = ['Value']\n",
    "\n",
    "with arcpy.da.UpdateCursor(fc, field) as cursor:\n",
    "\tfor row in cursor:\n",
    "            #none = <NULL> which is what the empty field will be\n",
    "        \tif row[0] == None:  \n",
    "            \t\trow[0] = 100\n",
    "            \t\tcursor.updateRow(row) #NOTE INDENTS ARE VERY IMPORTANT"
   ]
  },
  {
   "cell_type": "code",
   "execution_count": 20,
   "metadata": {},
   "outputs": [
    {
     "data": {
      "text/html": [
       "<div class='gpresult'><h2>Messages</h2><div id='messages' data-messages='[\"Start Time: Tuesday, 9 April 2024 7:30:45 AM\",\"Succeeded at Tuesday, 9 April 2024 7:30:45 AM (Elapsed Time: 0.26 seconds)\"]' data-show='true'><div id = 'default' /></div></div>"
      ],
      "text/plain": [
       "<Result 'C:/Users/jc446202/OneDrive - James Cook University (1)/ACIAR_spatial/modified_dat/Forest_ExPot.gdb\\\\areas_adjacent_to_modified_land'>"
      ]
     },
     "execution_count": 20,
     "metadata": {},
     "output_type": "execute_result"
    }
   ],
   "source": [
    "#need to clip this bc some of the buffers go outside of the land area into the sea. \n",
    "\n",
    "arcpy.analysis.Clip(\"modified_land_buffer200m\", country_polygon, \"modified_land_buff200m_clip\", None)\n",
    "\n",
    "#delete intermediate file\n",
    "arcpy.management.Delete(\"modified_land_buffer200m\")\n",
    "\n",
    "#keep clipped file and rename it\n",
    "arcpy.management.Rename(\"modified_land_buff200m_clip\", \"areas_adjacent_to_modified_land\")"
   ]
  },
  {
   "cell_type": "code",
   "execution_count": 21,
   "metadata": {},
   "outputs": [
    {
     "data": {
      "text/html": [
       "<div class='gpresult'><h2>Messages</h2><div id='messages' data-messages='[\"Start Time: Tuesday, 9 April 2024 7:35:34 AM\",\"Succeeded at Tuesday, 9 April 2024 7:59:18 AM (Elapsed Time: 23 minutes 43 seconds)\"]' data-show='true'><div id = 'default' /></div></div>"
      ],
      "text/plain": [
       "<Result 'C:/Users/jc446202/OneDrive - James Cook University (1)/ACIAR_spatial/modified_dat/Forest_ExPot.gdb\\\\areas_adjacent_to_modified_land_rast'>"
      ]
     },
     "execution_count": 21,
     "metadata": {},
     "output_type": "execute_result"
    }
   ],
   "source": [
    "#xii. convert buffers to raster. \n",
    "\n",
    "arcpy.conversion.PolygonToRaster(\"areas_adjacent_to_modified_land\", \"Value\", \"areas_adjacent_to_modified_land_rast\", \"CELL_CENTER\", \"NONE\", \"esa2020_si\", \"BUILD\")\n"
   ]
  },
  {
   "cell_type": "markdown",
   "metadata": {},
   "source": [
    "<a id= \"combineaccess\"></a>\n",
    "\n",
    "## Combine Access Layers\n"
   ]
  },
  {
   "cell_type": "code",
   "execution_count": 26,
   "metadata": {},
   "outputs": [],
   "source": [
    "#Combine Access layers together to get total scaled access:\n",
    "#remember each needs to be scaled to similar scales before combining bc theyre in different units. thats already been completed in the code\n",
    "\n",
    "#need to use **cell statistics** so the entire area gets calculated and not just where all three rasters intersect\n",
    "# must select \"UNION of INPUTS\" for environment. \n",
    "\n",
    "with arcpy.EnvManager(extent=\"MAXOF\"): #this means UNION of inputs\n",
    "    out_raster = arcpy.ia.CellStatistics(\"d_coast_scale;roads_buff1k_rast;slope_class;elevation_class;areas_adjacent_to_modified_land_rast\", \"SUM\", \"DATA\", \"SINGLE_BAND\", 90, \"AUTO_DETECT\"); out_raster.save(\"forest_access_all\")\n",
    "    "
   ]
  },
  {
   "cell_type": "code",
   "execution_count": 27,
   "metadata": {},
   "outputs": [],
   "source": [
    "#rescale by function\n",
    "#need to use this tool rather than the normal (x-min)/(min-max) because that equation needs values to be integers \n",
    "#this layer uses continuous layers (distance from coast) so you can have non integer values\n",
    "\n",
    "out_raster = arcpy.sa.RescaleByFunction(\"forest_access_all\", \"LINEAR # # # # # #\", 0, 100); out_raster.save(\"forest_access_scale\")\n"
   ]
  },
  {
   "cell_type": "markdown",
   "metadata": {},
   "source": [
    "\n",
    "cannot use raster calculator in python coding unless using the GUI\n",
    "when using map algebra, it thinks things are either a string or number (int, float etc)\n",
    "so for a raster, where you are calling an object, you need to nominate it as a Raster first\n",
    "https://pro.arcgis.com/en/pro-app/2.8/help/analysis/spatial-analyst/mapalgebra/a-quick-tour-of-using-map-algebra.htm\n"
   ]
  },
  {
   "cell_type": "markdown",
   "metadata": {},
   "source": [
    "<a id= \"CombineFC_Access\"></a>\n",
    "\n",
    "\n",
    "# 5. Combing Land Cover + Access\n",
    "\n",
    "Need to combine access * land cover  \n",
    "access is the SUM of layers: distance, road, slope, adjacent to modification\n",
    "\n",
    "this needs to be MULTIPLIED by forest_scale layer.  \n",
    "Because access hazard means nothing if its in non forest areas (areas where never was forest, and areas of deforestation) \n",
    "non forest raster value = 0  \n",
    "forest value = 100  \n",
    "this will mean that access is ONLY measurable in forested areas which is our resournce for this hazard layer. \n",
    "\n"
   ]
  },
  {
   "cell_type": "code",
   "execution_count": 28,
   "metadata": {},
   "outputs": [
    {
     "name": "stdout",
     "output_type": "stream",
     "text": [
      "completed forest PotExp layer\n"
     ]
    }
   ],
   "source": [
    "#forest access * land use \n",
    "\n",
    "out_raster = Raster(\"forest_class\") * Raster(\"forest_access_scale\"); out_raster.save(\"forest_potential_exploitation\")\n",
    "print(\"completed forest PotExp layer\")\n"
   ]
  },
  {
   "cell_type": "code",
   "execution_count": 30,
   "metadata": {},
   "outputs": [
    {
     "name": "stdout",
     "output_type": "stream",
     "text": [
      "0\n",
      "100.000015258789\n"
     ]
    }
   ],
   "source": [
    "#identify min and max values of forest_impact\n",
    "\n",
    "forest_potexp_min_output = arcpy.management.GetRasterProperties('forest_potential_exploitation', 'MINIMUM',\"\") #extracts minimum value from raster\n",
    "forest_potexp_min = int(forest_potexp_min_output.getOutput(0)) #assigns that value to an object, and converts to a integer\n",
    "print(forest_potexp_min)\n",
    "\n",
    "forest_potexp_max_ouput = arcpy.management.GetRasterProperties('forest_potential_exploitation', 'MAXIMUM',\"\")\n",
    "forest_potexp_max = float(forest_potexp_max_ouput.getOutput(0))\n",
    "print(forest_potexp_max)\n"
   ]
  },
  {
   "cell_type": "code",
   "execution_count": 31,
   "metadata": {},
   "outputs": [
    {
     "name": "stdout",
     "output_type": "stream",
     "text": [
      "<class 'int'>\n",
      "<class 'float'>\n"
     ]
    }
   ],
   "source": [
    "#checking object type to confirm integer\n",
    "print(type(forest_potexp_min))\n",
    "print(type(forest_potexp_max))\n"
   ]
  },
  {
   "cell_type": "code",
   "execution_count": 34,
   "metadata": {},
   "outputs": [
    {
     "name": "stdout",
     "output_type": "stream",
     "text": [
      "completed forest impact scale layer\n"
     ]
    }
   ],
   "source": [
    "#SCALE the forst impact layer \n",
    "\n",
    "outraster = ((Raster(\"forest_potential_exploitation\") - forest_potexp_min)/(forest_potexp_max - forest_potexp_min))*100; outraster.save(\"forest_potexp_scale\")\n",
    "\n",
    "print(\"completed forest potential exploitation scaled layer\")"
   ]
  },
  {
   "cell_type": "markdown",
   "metadata": {},
   "source": []
  },
  {
   "cell_type": "code",
   "execution_count": 32,
   "metadata": {},
   "outputs": [
    {
     "data": {
      "text/plain": [
       "'CheckedIn'"
      ]
     },
     "execution_count": 32,
     "metadata": {},
     "output_type": "execute_result"
    }
   ],
   "source": [
    "arcpy.CheckInExtension(\"Spatial\")"
   ]
  },
  {
   "cell_type": "code",
   "execution_count": 34,
   "metadata": {},
   "outputs": [
    {
     "name": "stdout",
     "output_type": "stream",
     "text": [
      "['osm_SI_roads_p_shp', 'Solomons_country_p_shp', 'solomons_line_shp', 'roads_buff1k', 'LandCover_poly', 'modified_land', 'modified_land_types', 'areas_adjacent_to_modified_land']\n"
     ]
    }
   ],
   "source": [
    "features = arcpy.ListFeatureClasses()\n",
    "print(features)"
   ]
  },
  {
   "cell_type": "code",
   "execution_count": 37,
   "metadata": {},
   "outputs": [
    {
     "name": "stdout",
     "output_type": "stream",
     "text": [
      "osm_SI_roads_p_shp is already in correct projection\n",
      "Solomons_country_p_shp is already in correct projection\n",
      "solomons_line_shp is already in correct projection\n",
      "roads_buff1k is already in correct projection\n",
      "LandCover_poly is already in correct projection\n",
      "modified_land has been  converted and is now: C:/Users/jc446202/OneDrive - James Cook University (1)/ACIAR_spatial/modified_dat/Forest_ExPot.gdb\\modified_land_p\n",
      "modified_land_types has been  converted and is now: C:/Users/jc446202/OneDrive - James Cook University (1)/ACIAR_spatial/modified_dat/Forest_ExPot.gdb\\modified_land_types_p\n",
      "areas_adjacent_to_modified_land has been  converted and is now: C:/Users/jc446202/OneDrive - James Cook University (1)/ACIAR_spatial/modified_dat/Forest_ExPot.gdb\\areas_adjacent_to_modified_land_p\n"
     ]
    }
   ],
   "source": [
    "#convert non projected data to projected data (PDC mercator)\n",
    "\n",
    "#Loop through the list\n",
    "for infc in features:                                            \n",
    "    #determine if input has a defined coordinate system\n",
    "    spatial_ref = arcpy.Describe(infc).spatialReference\n",
    "\n",
    "    # If the spatial reference is not the correct projected coordinate system\n",
    "    if spatial_ref.name == project_coord.name:\n",
    "        print(\"{} is already in correct projection\".format(infc))\n",
    "    \n",
    "    else:\n",
    "        # determine new output feature class (outfc) path and name. \n",
    "        #this saves to same gdb, saves as same name, and then add \"_p\" to the end to indicate its projected\n",
    "        outfc = os.path.join(gdb_workspace, infc+'_p')\n",
    "        \n",
    "        # set projected coord system to use\n",
    "        outCS = project_coord\n",
    "        \n",
    "        #run project tool\n",
    "        arcpy.management.Project(infc, outfc, outCS)\n",
    "        print(\"{} has been  converted and is now: {}\".format(infc, outfc))"
   ]
  },
  {
   "cell_type": "code",
   "execution_count": null,
   "metadata": {},
   "outputs": [],
   "source": []
  }
 ],
 "metadata": {
  "kernelspec": {
   "display_name": "Python 3 (ipykernel)",
   "language": "python",
   "name": "python3"
  },
  "language_info": {
   "codemirror_mode": {
    "name": "ipython",
    "version": 3
   },
   "file_extension": ".py",
   "mimetype": "text/x-python",
   "name": "python",
   "nbconvert_exporter": "python",
   "pygments_lexer": "ipython3",
   "version": "3.9.16"
  }
 },
 "nbformat": 4,
 "nbformat_minor": 2
}
